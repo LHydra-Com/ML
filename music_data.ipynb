{
 "cells": [
  {
   "cell_type": "code",
   "execution_count": 1,
   "source": [
    "import spotipy\n",
    "from spotipy.oauth2 import SpotifyClientCredentials\n",
    "import pandas as pd"
   ],
   "outputs": [],
   "metadata": {}
  },
  {
   "cell_type": "code",
   "execution_count": 2,
   "source": [
    "class Music:\n",
    "    def __init__(self):\n",
    "        self.sp = self.initialize_spotipy()\n",
    "        self.api_key = '4e4d5f65c4ccd249b6fb8b3f7b761eef'"
   ],
   "outputs": [],
   "metadata": {}
  },
  {
   "cell_type": "code",
   "execution_count": 3,
   "source": [
    "def initialize_spotipy(self):\n",
    "    client_id = '4187992fdb764829b6b2ce20718027c0'\n",
    "    client_secret = '4adc98b676ed40e1b43c521b355ef809'\n",
    "    client_credentials_manager = SpotifyClientCredentials(client_id=client_id, client_secret=client_secret)\n",
    "    return spotipy.Spotify(client_credentials_manager=client_credentials_manager)"
   ],
   "outputs": [
    {
     "output_type": "error",
     "ename": "IndentationError",
     "evalue": "unexpected indent (<ipython-input-3-3d34fc5cf79a>, line 2)",
     "traceback": [
      "\u001b[1;36m  Cell \u001b[1;32mIn[3], line 2\u001b[1;36m\u001b[0m\n\u001b[1;33m    def initialize_spotipy(self):\u001b[0m\n\u001b[1;37m    ^\u001b[0m\n\u001b[1;31mIndentationError\u001b[0m\u001b[1;31m:\u001b[0m unexpected indent\n"
     ]
    }
   ],
   "metadata": {}
  },
  {
   "cell_type": "code",
   "execution_count": null,
   "source": [
    "def get_user_listening_history(self, user_id):\n",
    "    # Retrieve user listening history from Spotify API\n",
    "    results = self.sp.current_user_recently_played(limit=50)\n",
    "    listening_history = []\n",
    "    for item in results['items']:\n",
    "        track = item['track']\n",
    "        listening_history.append({\n",
    "            'user_id': user_id,\n",
    "            'track_id': track['id'],\n",
    "            'artist_id': track['artists'][0]['id'],\n",
    "            'timestamp': item['played_at']\n",
    "        })\n",
    "    return listening_history"
   ],
   "outputs": [
    {
     "output_type": "error",
     "ename": "",
     "evalue": "",
     "traceback": [
      "\u001b[1;31mCell was canceled due to an error in a previous cell."
     ]
    }
   ],
   "metadata": {}
  },
  {
   "cell_type": "code",
   "execution_count": null,
   "source": [
    "def get_track_audio_features(self, track_id):\n",
    "    # Retrieve track audio features from Spotify API\n",
    "    audio_features = self.sp.audio_features([track_id])[0]\n",
    "    return {\n",
    "        'track_id': track_id,\n",
    "        'danceability': audio_features['danceability'],\n",
    "        'energy': audio_features['energy'],\n",
    "        'key': audio_features['key'],\n",
    "        'loudness': audio_features['loudness'],\n",
    "        'mode': audio_features['mode'],\n",
    "        'speechiness': audio_features['speechiness'],\n",
    "        'acousticness': audio_features['acousticness'],\n",
    "        'instrumentalness': audio_features['instrumentalness'],\n",
    "        'liveness': audio_features['liveness'],\n",
    "        'valence': audio_features['valence'],\n",
    "        'tempo': audio_features['tempo']\n",
    "    }"
   ],
   "outputs": [
    {
     "output_type": "error",
     "ename": "",
     "evalue": "",
     "traceback": [
      "\u001b[1;31mCell was canceled due to an error in a previous cell."
     ]
    }
   ],
   "metadata": {}
  },
  {
   "cell_type": "code",
   "execution_count": null,
   "source": [
    "def get_artist_metadata(self, artist_id):\n",
    "    # Retrieve artist metadata from Spotify API\n",
    "    artist = self.sp.artist(artist_id)\n",
    "    return {\n",
    "        'artist_id': artist_id,\n",
    "        'genres': artist['genres'],\n",
    "        'popularity': artist['popularity']\n",
    "    }"
   ],
   "outputs": [
    {
     "output_type": "error",
     "ename": "",
     "evalue": "",
     "traceback": [
      "\u001b[1;31mCell was canceled due to an error in a previous cell."
     ]
    }
   ],
   "metadata": {}
  },
  {
   "cell_type": "code",
   "execution_count": null,
   "source": [
    "def get_track_metadata(self, track_id):\n",
    "    # Retrieve track metadata from Spotify API\n",
    "    track = self.sp.track(track_id)\n",
    "    return {\n",
    "        'track_id': track_id,\n",
    "        'title': track['name'],\n",
    "        'artist': track['artists'][0]['name'],\n",
    "        'album': track['album']['name'],\n",
    "        'popularity': track['popularity'],\n",
    "        'duration_ms': track['duration_ms']\n",
    "    }"
   ],
   "outputs": [
    {
     "output_type": "error",
     "ename": "",
     "evalue": "",
     "traceback": [
      "\u001b[1;31mCell was canceled due to an error in a previous cell."
     ]
    }
   ],
   "metadata": {}
  },
  {
   "cell_type": "code",
   "execution_count": null,
   "source": [
    "def add_track_features_to_dataset(self, data):\n",
    "    # Retrieve track metadata and audio features for each track in the dataset\n",
    "    track_metadata = {}\n",
    "    track_audio_features = {}\n",
    "    for _, row in data.iterrows():\n",
    "        if 'track_id' in row:\n",
    "            track_id = row['track_id']\n",
    "            metadata = self.get_track_metadata(track_id)\n",
    "            audio_features = self.get_track_audio_features(track_id)\n",
    "            track_metadata[track_id] = metadata\n",
    "            track_audio_features[track_id] = audio_features"
   ],
   "outputs": [
    {
     "output_type": "error",
     "ename": "",
     "evalue": "",
     "traceback": [
      "\u001b[1;31mCell was canceled due to an error in a previous cell."
     ]
    }
   ],
   "metadata": {}
  },
  {
   "cell_type": "code",
   "execution_count": null,
   "source": [
    "# Convert track metadata and audio features to DataFrames\n",
    "metadata_df = pd.DataFrame.from_dict(track_metadata, orient='index')\n",
    "audio_features_df = pd.DataFrame.from_dict(track_audio_features, orient='index')"
   ],
   "outputs": [
    {
     "output_type": "error",
     "ename": "",
     "evalue": "",
     "traceback": [
      "\u001b[1;31mCell was canceled due to an error in a previous cell."
     ]
    }
   ],
   "metadata": {}
  },
  {
   "cell_type": "code",
   "execution_count": null,
   "source": [
    "# Merge track metadata and audio features with the dataset if they are not empty\n",
    "if not metadata_df.empty:\n",
    "    data = data.merge(metadata_df, on='track_id', how='left')\n",
    "if not audio_features_df.empty:\n",
    "    data = data.merge(audio_features_df, on='track_id', how='left')\n",
    "\n",
    "return data"
   ],
   "outputs": [
    {
     "output_type": "error",
     "ename": "",
     "evalue": "",
     "traceback": [
      "\u001b[1;31mCell was canceled due to an error in a previous cell."
     ]
    }
   ],
   "metadata": {}
  }
 ],
 "nbformat": 4,
 "nbformat_minor": 2,
 "metadata": {
  "language_info": {
   "codemirror_mode": {
    "name": "ipython",
    "version": 3
   },
   "file_extension": ".py",
   "mimetype": "text/x-python",
   "name": "python",
   "nbconvert_exporter": "python",
   "pygments_lexer": "ipython3",
   "version": 3
  }
 }
}