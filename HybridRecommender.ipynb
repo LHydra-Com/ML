{
 "cells": [
  {
   "cell_type": "code",
   "execution_count": 1,
   "source": [
    "import numpy as np\n",
    "import pandas as pd\n",
    "from sklearn.metrics.pairwise import cosine_similarity\n",
    "from sklearn.preprocessing import MinMaxScaler\n",
    "from sklearn.neighbors import NearestNeighbors\n",
    "from sklearn.metrics import ndcg_score, mean_reciprocal_rank, precision_score, recall_score, f1_score, average_precision_score\n",
    "from sklearn.model_selection import GridSearchCV"
   ],
   "outputs": [
    {
     "output_type": "error",
     "ename": "ImportError",
     "evalue": "cannot import name 'mean_reciprocal_rank' from 'sklearn.metrics' (d:\\DEV WORK\\Data Science Library\\ML-For-Beginners\\.venv\\lib\\site-packages\\sklearn\\metrics\\__init__.py)",
     "traceback": [
      "\u001b[1;31m---------------------------------------------------------------------------\u001b[0m",
      "\u001b[1;31mImportError\u001b[0m                               Traceback (most recent call last)",
      "File \u001b[1;32md:\\DEV WORK\\front-end-library\\clones\\LHydra\\LHydra Recommender\\ml\\HybridRecommender.py:7\u001b[0m\n\u001b[0;32m      5\u001b[0m \u001b[39mfrom\u001b[39;00m \u001b[39msklearn\u001b[39;00m\u001b[39m.\u001b[39;00m\u001b[39mpreprocessing\u001b[39;00m \u001b[39mimport\u001b[39;00m MinMaxScaler\n\u001b[0;32m      6\u001b[0m \u001b[39mfrom\u001b[39;00m \u001b[39msklearn\u001b[39;00m\u001b[39m.\u001b[39;00m\u001b[39mneighbors\u001b[39;00m \u001b[39mimport\u001b[39;00m NearestNeighbors\n\u001b[1;32m----> 7\u001b[0m \u001b[39mfrom\u001b[39;00m \u001b[39msklearn\u001b[39;00m\u001b[39m.\u001b[39;00m\u001b[39mmetrics\u001b[39;00m \u001b[39mimport\u001b[39;00m ndcg_score, mean_reciprocal_rank, precision_score, recall_score, f1_score, average_precision_score\n\u001b[0;32m      8\u001b[0m \u001b[39mfrom\u001b[39;00m \u001b[39msklearn\u001b[39;00m\u001b[39m.\u001b[39;00m\u001b[39mmodel_selection\u001b[39;00m \u001b[39mimport\u001b[39;00m GridSearchCV\n",
      "\u001b[1;31mImportError\u001b[0m: cannot import name 'mean_reciprocal_rank' from 'sklearn.metrics' (d:\\DEV WORK\\Data Science Library\\ML-For-Beginners\\.venv\\lib\\site-packages\\sklearn\\metrics\\__init__.py)"
     ]
    }
   ],
   "metadata": {}
  },
  {
   "cell_type": "code",
   "execution_count": null,
   "source": [
    "class HybridRecommender:\n",
    "    def __init__(self, user_item_interactions, item_content_features):\n",
    "        self.user_item_interactions = user_item_interactions\n",
    "        self.item_content_features = item_content_features\n",
    "        self.item_similarity_matrix = None\n",
    "        self.user_similarity_matrix = None\n",
    "        self.combined_similarity_matrix = None\n",
    "        self.model = None"
   ],
   "outputs": [
    {
     "output_type": "error",
     "ename": "",
     "evalue": "",
     "traceback": [
      "\u001b[1;31mCell was canceled due to an error in a previous cell."
     ]
    }
   ],
   "metadata": {}
  },
  {
   "cell_type": "code",
   "execution_count": null,
   "source": [
    "def preprocess_data(self):\n",
    "# Normalize the user-item interaction data\n",
    "scaler = MinMaxScaler()\n",
    "self.user_item_interactions = pd.DataFrame(scaler.fit_transform(self.user_item_interactions),\n",
    "                                           columns=self.user_item_interactions.columns,\n",
    "                                           index=self.user_item_interactions.index)"
   ],
   "outputs": [
    {
     "output_type": "error",
     "ename": "",
     "evalue": "",
     "traceback": [
      "\u001b[1;31mCell was canceled due to an error in a previous cell."
     ]
    }
   ],
   "metadata": {}
  },
  {
   "cell_type": "code",
   "execution_count": null,
   "source": [
    "# Normalize the item content feature data\n",
    "self.item_content_features = pd.DataFrame(scaler.fit_transform(self.item_content_features),\n",
    "                                          columns=self.item_content_features.columns,\n",
    "                                          index=self.item_content_features.index)"
   ],
   "outputs": [
    {
     "output_type": "error",
     "ename": "",
     "evalue": "",
     "traceback": [
      "\u001b[1;31mCell was canceled due to an error in a previous cell."
     ]
    }
   ],
   "metadata": {}
  },
  {
   "cell_type": "code",
   "execution_count": null,
   "source": [
    "def calculate_item_similarity(self):\n",
    "    # Calculate item similarity based on content features\n",
    "    self.item_similarity_matrix = cosine_similarity(self.item_content_features)"
   ],
   "outputs": [
    {
     "output_type": "error",
     "ename": "",
     "evalue": "",
     "traceback": [
      "\u001b[1;31mCell was canceled due to an error in a previous cell."
     ]
    }
   ],
   "metadata": {}
  },
  {
   "cell_type": "code",
   "execution_count": null,
   "source": [
    "def calculate_user_similarity(self):\n",
    "    # Calculate user similarity based on user-item interactions\n",
    "    self.user_similarity_matrix = cosine_similarity(self.user_item_interactions)"
   ],
   "outputs": [
    {
     "output_type": "error",
     "ename": "",
     "evalue": "",
     "traceback": [
      "\u001b[1;31mCell was canceled due to an error in a previous cell."
     ]
    }
   ],
   "metadata": {}
  },
  {
   "cell_type": "code",
   "execution_count": null,
   "source": [
    "def combine_similarity_matrices(self, alpha=0.5):\n",
    "# Combine item similarity and user similarity matrices\n",
    "self.combined_similarity_matrix = alpha * self.item_similarity_matrix + (1 - alpha) * self.user_similarity_matrix"
   ],
   "outputs": [
    {
     "output_type": "error",
     "ename": "",
     "evalue": "",
     "traceback": [
      "\u001b[1;31mCell was canceled due to an error in a previous cell."
     ]
    }
   ],
   "metadata": {}
  },
  {
   "cell_type": "code",
   "execution_count": null,
   "source": [
    "def train_model(self, n_neighbors=10):\n",
    "    # Train the nearest neighbors model on the combined similarity matrix\n",
    "    self.model = NearestNeighbors(metric='cosine', algorithm='brute', n_neighbors=n_neighbors)\n",
    "    self.model.fit(self.combined_similarity_matrix)"
   ],
   "outputs": [
    {
     "output_type": "error",
     "ename": "",
     "evalue": "",
     "traceback": [
      "\u001b[1;31mCell was canceled due to an error in a previous cell."
     ]
    }
   ],
   "metadata": {}
  },
  {
   "cell_type": "code",
   "execution_count": null,
   "source": [
    "def tune_hyperparameters(self, param_grid, cv=5):\n",
    "    # Perform grid search to find the best hyperparameters\n",
    "    grid_search = GridSearchCV(self.model, param_grid, cv=cv)\n",
    "    grid_search.fit(self.combined_similarity_matrix)\n",
    "    self.model = grid_search.best_estimator_"
   ],
   "outputs": [
    {
     "output_type": "error",
     "ename": "",
     "evalue": "",
     "traceback": [
      "\u001b[1;31mCell was canceled due to an error in a previous cell."
     ]
    }
   ],
   "metadata": {}
  },
  {
   "cell_type": "code",
   "execution_count": null,
   "source": [
    "def generate_recommendations(self, user_id, top_n=10):\n",
    "    # Generate recommendations for a given user\n",
    "    user_index = self.user_item_interactions.index.get_loc(user_id)\n",
    "    user_vector = self.user_item_interactions.iloc[user_index].values.reshape(1, -1)\n",
    "\n",
    "    # Find the nearest neighbors of the user\n",
    "    distances, indices = self.model.kneighbors(user_vector)\n",
    "\n",
    "    # Get the item indices of the nearest neighbors\n",
    "    item_indices = indices.flatten()\n",
    "\n",
    "    # Get the recommended items\n",
    "    recommended_items = self.item_content_features.index[item_indices]\n",
    "\n",
    "    return recommended_items[:top_n]"
   ],
   "outputs": [
    {
     "output_type": "error",
     "ename": "",
     "evalue": "",
     "traceback": [
      "\u001b[1;31mCell was canceled due to an error in a previous cell."
     ]
    }
   ],
   "metadata": {}
  },
  {
   "cell_type": "code",
   "execution_count": null,
   "source": [
    "def evaluate(self, test_data, top_n=10):\n",
    "    # Evaluate the recommender system using the test data\n",
    "    user_ids = test_data['user_id'].unique()\n",
    "\n",
    "    ndcg_scores = []\n",
    "    mrr_scores = []\n",
    "    precision_scores = []\n",
    "    recall_scores = []\n",
    "    f1_scores = []\n",
    "    map_scores = []\n",
    "\n",
    "    for user_id in user_ids:\n",
    "        # Get the true items for the user\n",
    "        true_items = test_data[test_data['user_id'] == user_id]['item_id'].tolist()\n",
    "\n",
    "        # Generate recommendations for the user\n",
    "        recommended_items = self.generate_recommendations(user_id, top_n)\n",
    "\n",
    "        # Calculate evaluation metrics\n",
    "        ndcg_scores.append(ndcg_score([true_items], [recommended_items]))\n",
    "        mrr_scores.append(mean_reciprocal_rank([true_items], [recommended_items]))\n",
    "        precision_scores.append(precision_score(true_items, recommended_items, average='micro'))\n",
    "        recall_scores.append(recall_score(true_items, recommended_items, average='micro'))\n",
    "        f1_scores.append(f1_score(true_items, recommended_items, average='micro'))\n",
    "        map_scores.append(average_precision_score([true_items], [recommended_items]))"
   ],
   "outputs": [
    {
     "output_type": "error",
     "ename": "",
     "evalue": "",
     "traceback": [
      "\u001b[1;31mCell was canceled due to an error in a previous cell."
     ]
    }
   ],
   "metadata": {}
  },
  {
   "cell_type": "code",
   "execution_count": null,
   "source": [
    "# Calculate average evaluation metrics\n",
    "avg_ndcg = np.mean(ndcg_scores)\n",
    "avg_mrr = np.mean(mrr_scores)\n",
    "avg_precision = np.mean(precision_scores)\n",
    "avg_recall = np.mean(recall_scores)\n",
    "avg_f1 = np.mean(f1_scores)\n",
    "avg_map = np.mean(map_scores)\n",
    "\n",
    "return {\n",
    "    'NDCG': avg_ndcg,\n",
    "    'MRR': avg_mrr,\n",
    "    'Precision': avg_precision,\n",
    "    'Recall': avg_recall,\n",
    "    'F1-score': avg_f1,\n",
    "    'MAP': avg_map\n",
    "}"
   ],
   "outputs": [
    {
     "output_type": "error",
     "ename": "",
     "evalue": "",
     "traceback": [
      "\u001b[1;31mCell was canceled due to an error in a previous cell."
     ]
    }
   ],
   "metadata": {}
  },
  {
   "cell_type": "code",
   "execution_count": null,
   "source": [
    "def get_trending_items(self, top_n=10):\n",
    "    # Get the trending items based on overall popularity\n",
    "    item_popularity = self.user_item_interactions.sum(axis=0)\n",
    "    trending_items = item_popularity.sort_values(ascending=False)."
   ],
   "outputs": [
    {
     "output_type": "error",
     "ename": "",
     "evalue": "",
     "traceback": [
      "\u001b[1;31mCell was canceled due to an error in a previous cell."
     ]
    }
   ],
   "metadata": {}
  }
 ],
 "nbformat": 4,
 "nbformat_minor": 2,
 "metadata": {
  "language_info": {
   "codemirror_mode": {
    "name": "ipython",
    "version": 3
   },
   "file_extension": ".py",
   "mimetype": "text/x-python",
   "name": "python",
   "nbconvert_exporter": "python",
   "pygments_lexer": "ipython3",
   "version": 3
  }
 }
}