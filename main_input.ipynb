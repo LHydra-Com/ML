{
 "cells": [
  {
   "cell_type": "code",
   "execution_count": 1,
   "source": [
    "# import libraries\n",
    "from model import HybridRecommender\n",
    "from music_data import Music\n",
    "from ml.data_utils import preprocess_data, extract_user_item_interactions, extract_item_content_features, split_data\n",
    "import pandas as pd\n",
    "import time\n",
    "from statistics import mode\n",
    "import warnings\n",
    "import pycountry\n",
    "import ast\n",
    "# Ignore all warnings\n",
    "warnings.filterwarnings(\"ignore\")"
   ],
   "outputs": [
    {
     "output_type": "error",
     "ename": "NameError",
     "evalue": "name 'ml' is not defined",
     "traceback": [
      "\u001b[1;31m---------------------------------------------------------------------------\u001b[0m",
      "\u001b[1;31mNameError\u001b[0m                                 Traceback (most recent call last)",
      "File \u001b[1;32md:\\DEV WORK\\front-end-library\\clones\\LHydra\\LHydra Recommender\\ml\\main_input.py:5\u001b[0m\n\u001b[0;32m      3\u001b[0m \u001b[39mfrom\u001b[39;00m \u001b[39mmodel\u001b[39;00m \u001b[39mimport\u001b[39;00m HybridRecommender\n\u001b[0;32m      4\u001b[0m \u001b[39mfrom\u001b[39;00m \u001b[39mmusic_data\u001b[39;00m \u001b[39mimport\u001b[39;00m Music\n\u001b[1;32m----> 5\u001b[0m \u001b[39mfrom\u001b[39;00m \u001b[39mml\u001b[39;00m\u001b[39m.\u001b[39;00m\u001b[39mdata_utils\u001b[39;00m \u001b[39mimport\u001b[39;00m preprocess_data, extract_user_item_interactions, extract_item_content_features, split_data\n\u001b[0;32m      6\u001b[0m \u001b[39mimport\u001b[39;00m \u001b[39mpandas\u001b[39;00m \u001b[39mas\u001b[39;00m \u001b[39mpd\u001b[39;00m\n\u001b[0;32m      7\u001b[0m \u001b[39mimport\u001b[39;00m \u001b[39mtime\u001b[39;00m\n",
      "File \u001b[1;32md:\\DEV WORK\\front-end-library\\clones\\LHydra\\LHydra Recommender\\ml\\ml.py:1\u001b[0m\n\u001b[1;32m----> 1\u001b[0m ml\u001b[39m.\u001b[39mdata_utils\n",
      "\u001b[1;31mNameError\u001b[0m: name 'ml' is not defined"
     ]
    }
   ],
   "metadata": {}
  },
  {
   "cell_type": "code",
   "execution_count": null,
   "source": [
    "# Extract the various artists in the dataset and their associated encoded codes\n",
    "start_time = time.time()\n",
    "df = pd.read_csv('dataset.csv')\n",
    "df = df.drop_duplicates(subset='usersha1', keep='first')"
   ],
   "outputs": [
    {
     "output_type": "error",
     "ename": "",
     "evalue": "",
     "traceback": [
      "\u001b[1;31mCell was canceled due to an error in a previous cell."
     ]
    }
   ],
   "metadata": {}
  },
  {
   "cell_type": "code",
   "execution_count": null,
   "source": [
    "# Normalize the 'plays' column\n",
    "min_value = df['plays'].min()\n",
    "max_value = df['plays'].max()\n",
    "df['plays'] = (df['plays'] - min_value) / (max_value - min_value)\n",
    "df.to_csv('normalized_data.csv')"
   ],
   "outputs": [
    {
     "output_type": "error",
     "ename": "",
     "evalue": "",
     "traceback": [
      "\u001b[1;31mCell was canceled due to an error in a previous cell."
     ]
    }
   ],
   "metadata": {}
  },
  {
   "cell_type": "code",
   "execution_count": null,
   "source": [
    "# Get the artist names and countries\n",
    "artists = df['artname'].unique().tolist()\n",
    "artists_dict = {artist: i for i, artist in enumerate(artists)}\n",
    "countries = df['country'].unique().tolist()\n",
    "countries_dict = {country: i for i, country in enumerate(countries)}"
   ],
   "outputs": [
    {
     "output_type": "error",
     "ename": "",
     "evalue": "",
     "traceback": [
      "\u001b[1;31mCell was canceled due to an error in a previous cell."
     ]
    }
   ],
   "metadata": {}
  },
  {
   "cell_type": "code",
   "execution_count": null,
   "source": [
    "# Function to get an artist name given the artist encoding code\n",
    "def artname_by_artcode(artist_code, dictionary=artists_dict):\n",
    "    for key, value in dictionary.items():\n",
    "        if value == artist_code:\n",
    "            return key\n",
    "    msg = f'No artist found with code {artist_code}.'\n",
    "    return msg"
   ],
   "outputs": [
    {
     "output_type": "error",
     "ename": "",
     "evalue": "",
     "traceback": [
      "\u001b[1;31mCell was canceled due to an error in a previous cell."
     ]
    }
   ],
   "metadata": {}
  },
  {
   "cell_type": "code",
   "execution_count": null,
   "source": [
    "end_time = time.time()      \n",
    "execution_time = end_time - start_time\n",
    "\n",
    "if execution_time < 20:\n",
    "    print(f\"🤖 Whew, that was a swift {int(execution_time)} seconds! Time flies when you're grooving to the beat! 🕰️🎵\")\n",
    "else:\n",
    "    minutes, seconds = divmod(int(execution_time), 20)\n",
    "    print(f\"🤖 Wow, we've been jamming for {minutes} minutes and {seconds} seconds already! Music makes time fly, doesn't it? 🕰️🎶\")\n",
    "print('🤖 Hey there! 😄 Welcome to LHydra, your personal music guru. I am here to help you discover amazing songs that you will absolutely love!')\n",
    "print(\"🤖 But first, let me get to know you a little better. Don't worry, I won't bite! 😉\")"
   ],
   "outputs": [
    {
     "output_type": "error",
     "ename": "",
     "evalue": "",
     "traceback": [
      "\u001b[1;31mCell was canceled due to an error in a previous cell."
     ]
    }
   ],
   "metadata": {}
  },
  {
   "cell_type": "code",
   "execution_count": null,
   "source": [
    "# Get user input from a list\n",
    "user_data = [\"male\", 25, \"United States\", \"Led Zeppelin\", \"Stairway to Heaven\", 5]\n",
    "\n",
    "gender, age, country, favorite_artist, favorite_song, plays = user_data\n",
    "\n",
    "if gender.lower() == 'male':\n",
    "    gender = 1\n",
    "    print('🤖 Awesome! A music maestro in the house! 🎵')\n",
    "elif gender.lower() == 'female':\n",
    "    gender = 2\n",
    "    print('🤖 Fantastic! A songstress extraordinaire! 🎶')\n",
    "else:\n",
    "    print('🤖 Oops!, {gender} is not a valid input. Let us try again and stick to male or female, shall we? 😅')\n",
    "\n",
    "print(f\"🤖 {age} years? That's a great age to explore some fresh tunes! 🎉\")\n",
    "\n",
    "entered_country = country.title()\n",
    "\n",
    "try:\n",
    "    country_obj = pycountry.countries.get(name=entered_country)\n",
    "    capital = country_obj.capital\n",
    "    country_code = country_obj.alpha_3\n",
    "    country = countries_dict[country_code]\n",
    "    print(f\"🤖 Wow, {entered_country}! The capital {capital} is known for its vibrant music culture! 🌍\")\n",
    "    print(f\"🤖 I hear the music scene in {entered_country} is incredible! 🎵\")\n",
    "except KeyError:\n",
    "    print(f\"🤖 Hmm, I couldn't find information for {entered_country}. Please try entering the official country name or check the spelling.\")\n",
    "    country = None\n",
    "except:\n",
    "    print(\"🤖 Oops, something went wrong while fetching country information. Let's move on.\")\n",
    "    country = None\n",
    "\n",
    "print(f\"🤖 No way, {favorite_artist} is legendary! And {favorite_song} - is an absolute gem! 💎\")"
   ],
   "outputs": [
    {
     "output_type": "error",
     "ename": "",
     "evalue": "",
     "traceback": [
      "\u001b[1;31mCell was canceled due to an error in a previous cell."
     ]
    }
   ],
   "metadata": {}
  },
  {
   "cell_type": "code",
   "execution_count": null,
   "source": [
    "monthly_plays = plays * 30\n",
    "\n",
    "average_playcounts = round(df['plays'].mean())\n",
    "global_popular_artist = df['artname'].mode()[0]\n",
    "print(f\"🤖 Wow, you listen to your {favorite_song} an average of {plays} times a day? That's impressive! 🎧\")\n",
    "if monthly_plays > 1000:\n",
    "    print(f\"🤖 Wow, you'll be grooving to your favorite artist's tunes around {monthly_plays:,} times a month! 🎉 That's some serious dedication! 🎧\")\n",
    "else:\n",
    "    print(f\"🤖 If you keep that up, you'll be enjoying your favorite artist's music around {monthly_plays} times a month! 🎶 Keep vibing! 😄\")\n",
    "\n",
    "print(f\"🤖 Did you know that {global_popular_artist} is currently the hottest artist on the charts? 🔥\")\n",
    "print(f\"🤖 With their infectious beats and catchy lyrics, it's no surprise that many people are jamming to their tunes every month! 🎶\")\n",
    "\n",
    "print(f\"🤖 Ok! Enough of my fun facts! Here comes my findings\")"
   ],
   "outputs": [
    {
     "output_type": "error",
     "ename": "",
     "evalue": "",
     "traceback": [
      "\u001b[1;31mCell was canceled due to an error in a previous cell."
     ]
    }
   ],
   "metadata": {}
  },
  {
   "cell_type": "code",
   "execution_count": null,
   "source": [
    "# Impute artist, if not provided\n",
    "if favorite_artist.lower() in ['none', 'unknown']:\n",
    "    fav_artist = global_popular_artist\n",
    "    fav_artist = artists_dict[fav_artist]\n",
    "elif favorite_artist in artists_dict:\n",
    "    fav_artist = artists_dict[favorite_artist]\n",
    "else:\n",
    "    new_artist_number = len(artists_dict) + 1\n",
    "    artists_dict[favorite_artist] = new_artist_number\n",
    "    fav_artist = artists_dict[favorite_artist]\n",
    "\n",
    "# Impute play counts with global average, if not provided\n",
    "if plays in [0, 'none', 'None']:\n",
    "    plays = average_playcounts\n",
    "else:\n",
    "    plays = int(plays)"
   ],
   "outputs": [
    {
     "output_type": "error",
     "ename": "",
     "evalue": "",
     "traceback": [
      "\u001b[1;31mCell was canceled due to an error in a previous cell."
     ]
    }
   ],
   "metadata": {}
  },
  {
   "cell_type": "code",
   "execution_count": null,
   "source": [
    "# Load and preprocess the dataset\n",
    "data = pd.read_csv('normalized_data.csv')\n",
    "music = Music()\n",
    "data = music.add_track_features_to_dataset(data)\n",
    "preprocessed_data = preprocess_data(data)\n",
    "\n",
    "# Extract user-item interactions and item content features\n",
    "user_item_interactions = extract_user_item_interactions(preprocessed_data)\n",
    "item_content_features = extract_item_content_features(preprocessed_data)\n",
    "\n",
    "# Split the data into training and testing sets using cross-validation\n",
    "train_data_list, test_data_list = split_data(user_item_interactions, n_splits=5, random_state=42)\n",
    "\n",
    "# Create an instance of the HybridRecommender\n",
    "recommender = HybridRecommender(user_item_interactions, item_content_features)"
   ],
   "outputs": [
    {
     "output_type": "error",
     "ename": "",
     "evalue": "",
     "traceback": [
      "\u001b[1;31mCell was canceled due to an error in a previous cell."
     ]
    }
   ],
   "metadata": {}
  },
  {
   "cell_type": "code",
   "execution_count": null,
   "source": [
    "# Perform cross-validation and evaluate the recommender system\n",
    "evaluation_metrics = []\n",
    "for train_data, test_data in zip(train_data_list, test_data_list):\n",
    "    # Train the recommender system using the training data\n",
    "    recommender.train(train_data)\n",
    "    \n",
    "    # Evaluate the recommender system using the testing data\n",
    "    metrics = recommender.evaluate(test_data)\n",
    "    evaluation_metrics.append(metrics)"
   ],
   "outputs": [
    {
     "output_type": "error",
     "ename": "",
     "evalue": "",
     "traceback": [
      "\u001b[1;31mCell was canceled due to an error in a previous cell."
     ]
    }
   ],
   "metadata": {}
  },
  {
   "cell_type": "code",
   "execution_count": null,
   "source": [
    "# Calculate average evaluation metrics across all cross-validation splits\n",
    "avg_metrics = {metric: sum(values) / len(values) for metric, values in zip(evaluation_metrics[0].keys(), zip(*[d.values() for d in evaluation_metrics]))}\n",
    "\n",
    "print(\"Average Evaluation Metrics (Cross-Validation):\")\n",
    "print(f\"NDCG: {avg_metrics['NDCG']}\")\n",
    "print(f\"MRR: {avg_metrics['MRR']}\")\n",
    "print(f\"Precision: {avg_metrics['Precision']}\")\n",
    "print(f\"Recall: {avg_metrics['Recall']}\")\n",
    "print(f\"F1-score: {avg_metrics['F1-score']}\")\n",
    "print(f\"MAP: {avg_metrics['MAP']}\")"
   ],
   "outputs": [
    {
     "output_type": "error",
     "ename": "",
     "evalue": "",
     "traceback": [
      "\u001b[1;31mCell was canceled due to an error in a previous cell."
     ]
    }
   ],
   "metadata": {}
  },
  {
   "cell_type": "code",
   "execution_count": null,
   "source": [
    "# Retrieve user listening history\n",
    "user_id = \"user123\"  # Example user ID\n",
    "listening_history = music.get_user_listening_history(user_id)"
   ],
   "outputs": [
    {
     "output_type": "error",
     "ename": "",
     "evalue": "",
     "traceback": [
      "\u001b[1;31mCell was canceled due to an error in a previous cell."
     ]
    }
   ],
   "metadata": {}
  },
  {
   "cell_type": "code",
   "execution_count": null,
   "source": [
    "# Retrieve track audio features\n",
    "track_name = \"Stairway to Heaven\"  # Example track name\n",
    "track_results = music.sp.search(q=track_name, type='track', limit=1)\n",
    "if track_results['tracks']['items']:\n",
    "    track_id = track_results['tracks']['items'][0]['id']\n",
    "    audio_features = music.get_track_audio_features(track_id)\n",
    "else:\n",
    "    print(\"Track not found.\")"
   ],
   "outputs": [
    {
     "output_type": "error",
     "ename": "",
     "evalue": "",
     "traceback": [
      "\u001b[1;31mCell was canceled due to an error in a previous cell."
     ]
    }
   ],
   "metadata": {}
  },
  {
   "cell_type": "code",
   "execution_count": null,
   "source": [
    "# Retrieve artist metadata\n",
    "artist_name = \"Led Zeppelin\"  # Example artist name\n",
    "artist_results = music.sp.search(q=artist_name, type='artist', limit=1)\n",
    "if artist_results['artists']['items']:\n",
    "    artist_id = artist_results['artists']['items'][0]['id']\n",
    "    artist_metadata = music.get_artist_metadata(artist_id)\n",
    "else:\n",
    "    print(\"Artist not found.\")"
   ],
   "outputs": [
    {
     "output_type": "error",
     "ename": "",
     "evalue": "",
     "traceback": [
      "\u001b[1;31mCell was canceled due to an error in a previous cell."
     ]
    }
   ],
   "metadata": {}
  },
  {
   "cell_type": "code",
   "execution_count": null,
   "source": [
    "# Retrieve track metadata\n",
    "track_metadata = music.get_track_metadata(track_id)\n",
    "\n",
    "# Generate recommendations using the hybrid approach\n",
    "recommendation_start_time = time.time()\n",
    "recommendations = recommender.generate_recommendations(user_id, top_n=10)\n",
    "\n",
    "# After generating recommendations\n",
    "recommendation_end_time = time.time()\n",
    "recommendation_time = recommendation_end_time - recommendation_start_time\n",
    "\n",
    "if recommendations:\n",
    "    if recommendation_time < 60:\n",
    "        print(f\"Drumroll please... 🥁 Let's see what LHydra has discovered for you in just {int(recommendation_time)} seconds! 🎉\")\n",
    "    else:\n",
    "        minutes, seconds = divmod(int(recommendation_time), 60)\n",
    "        print(f\"Drumroll please... 🥁 After {minutes} minutes and {seconds} seconds of intense calculation, LHydra has some stellar recommendations for you! 🎉\")\n",
    "    print('=' * 40)\n",
    "    for item in recommendations:\n",
    "        print(f\"- {item}\")\n",
    "else:\n",
    "    print(\"🤖 Oops! 🙈 It looks like LHydra couldn't find any personalized recommendations for you at the moment.\")\n",
    "    print(\"🤖 But don't worry, I've got a backup plan! Check out these trending items that are sure to make your playlist pop! 🎉\")\n",
    "    trending_items = recommender.get_trending_items()\n",
    "    for item in trending_items:\n",
    "        print(f\"- {item}\")\n",
    "\n",
    "print(\"🤖 Remember, music is a journey, and there's always something new to discover! 🌟\")\n",
    "print(\"🤖 Keep exploring, and don't be afraid to step out of your comfort zone! 🎧\")\n",
    "print(\"🤖 Until next time, happy listening! 😄🎶\")"
   ],
   "outputs": [
    {
     "output_type": "error",
     "ename": "",
     "evalue": "",
     "traceback": [
      "\u001b[1;31mCell was canceled due to an error in a previous cell."
     ]
    }
   ],
   "metadata": {}
  }
 ],
 "nbformat": 4,
 "nbformat_minor": 2,
 "metadata": {
  "language_info": {
   "codemirror_mode": {
    "name": "ipython",
    "version": 3
   },
   "file_extension": ".py",
   "mimetype": "text/x-python",
   "name": "python",
   "nbconvert_exporter": "python",
   "pygments_lexer": "ipython3",
   "version": 3
  }
 }
}