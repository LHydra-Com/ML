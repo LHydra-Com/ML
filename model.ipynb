{
 "cells": [
  {
   "cell_type": "code",
   "execution_count": 1,
   "source": [
    "import numpy as np\n",
    "import pandas as pd\n",
    "from sklearn.metrics.pairwise import cosine_similarity\n",
    "from sklearn.preprocessing import MinMaxScaler\n",
    "from sklearn.neighbors import NearestNeighbors\n",
    "from sklearn.metrics import precision_score, recall_score, f1_score, average_precision_score"
   ],
   "outputs": [],
   "metadata": {}
  },
  {
   "cell_type": "code",
   "execution_count": 2,
   "source": [
    "class HybridRecommender:\n",
    "    def __init__(self, user_item_interactions, item_content_features):\n",
    "        self.user_item_interactions = user_item_interactions\n",
    "        self.item_content_features = item_content_features\n",
    "        self.item_similarity_matrix = None\n",
    "        self.user_similarity_matrix = None\n",
    "        self.combined_similarity_matrix = None\n",
    "        self.model = None"
   ],
   "outputs": [],
   "metadata": {}
  },
  {
   "cell_type": "code",
   "execution_count": 3,
   "source": [
    "def preprocess_data(self):\n",
    "    # Normalize the user-item interaction data\n",
    "    scaler = MinMaxScaler()\n",
    "    self.user_item_interactions = pd.DataFrame(scaler.fit_transform(self.user_item_interactions),\n",
    "                                               columns=self.user_item_interactions.columns,\n",
    "                                               index=self.user_item_interactions.index)\n",
    "\n",
    "    # Normalize the item content feature data\n",
    "    self.item_content_features = pd.DataFrame(scaler.fit_transform(self.item_content_features),\n",
    "                                              columns=self.item_content_features.columns,\n",
    "                                              index=self.item_content_features.index)"
   ],
   "outputs": [
    {
     "output_type": "error",
     "ename": "IndentationError",
     "evalue": "unexpected indent (<ipython-input-3-2d4ae0c97bb7>, line 2)",
     "traceback": [
      "\u001b[1;36m  Cell \u001b[1;32mIn[3], line 2\u001b[1;36m\u001b[0m\n\u001b[1;33m    def preprocess_data(self):\u001b[0m\n\u001b[1;37m    ^\u001b[0m\n\u001b[1;31mIndentationError\u001b[0m\u001b[1;31m:\u001b[0m unexpected indent\n"
     ]
    }
   ],
   "metadata": {}
  },
  {
   "cell_type": "code",
   "execution_count": null,
   "source": [
    "def calculate_item_similarity(self):\n",
    "    # Calculate item similarity based on content features\n",
    "    self.item_similarity_matrix = cosine_similarity(self.item_content_features)"
   ],
   "outputs": [
    {
     "output_type": "error",
     "ename": "",
     "evalue": "",
     "traceback": [
      "\u001b[1;31mCell was canceled due to an error in a previous cell."
     ]
    }
   ],
   "metadata": {}
  },
  {
   "cell_type": "code",
   "execution_count": null,
   "source": [
    "def calculate_user_similarity(self):\n",
    "    # Calculate user similarity based on user-item interactions\n",
    "    self.user_similarity_matrix = cosine_similarity(self.user_item_interactions)"
   ],
   "outputs": [
    {
     "output_type": "error",
     "ename": "",
     "evalue": "",
     "traceback": [
      "\u001b[1;31mCell was canceled due to an error in a previous cell."
     ]
    }
   ],
   "metadata": {}
  },
  {
   "cell_type": "code",
   "execution_count": null,
   "source": [
    "def combine_similarity_matrices(self, alpha=0.5):\n",
    "    # Combine item similarity and user similarity matrices\n",
    "    self.combined_similarity_matrix = alpha * self.item_similarity_matrix + (1 - alpha) * self.user_similarity_matrix"
   ],
   "outputs": [
    {
     "output_type": "error",
     "ename": "",
     "evalue": "",
     "traceback": [
      "\u001b[1;31mCell was canceled due to an error in a previous cell."
     ]
    }
   ],
   "metadata": {}
  },
  {
   "cell_type": "code",
   "execution_count": null,
   "source": [
    "def train_model(self):\n",
    "    # Train the nearest neighbors model on the combined similarity matrix\n",
    "    self.model = NearestNeighbors(metric='cosine', algorithm='brute')\n",
    "    self.model.fit(self.combined_similarity_matrix)"
   ],
   "outputs": [
    {
     "output_type": "error",
     "ename": "",
     "evalue": "",
     "traceback": [
      "\u001b[1;31mCell was canceled due to an error in a previous cell."
     ]
    }
   ],
   "metadata": {}
  },
  {
   "cell_type": "code",
   "execution_count": null,
   "source": [
    "def train(self, train_data):\n",
    "    # Preprocess the data\n",
    "    self.preprocess_data()\n",
    "\n",
    "    # Calculate item similarity matrix\n",
    "    self.calculate_item_similarity()\n",
    "\n",
    "    # Calculate user similarity matrix\n",
    "    self.calculate_user_similarity()\n",
    "\n",
    "    # Combine similarity matrices\n",
    "    self.combine_similarity_matrices()\n",
    "\n",
    "    # Train the nearest neighbors model\n",
    "    self.train_model()"
   ],
   "outputs": [
    {
     "output_type": "error",
     "ename": "",
     "evalue": "",
     "traceback": [
      "\u001b[1;31mCell was canceled due to an error in a previous cell."
     ]
    }
   ],
   "metadata": {}
  },
  {
   "cell_type": "code",
   "execution_count": null,
   "source": [
    "def generate_recommendations(self, user_id, top_n=10):\n",
    "    # Generate recommendations for a given user\n",
    "    user_index = self.user_item_interactions.index.get_loc(user_id)\n",
    "    user_vector = self.user_item_interactions.iloc[user_index].values.reshape(1, -1)\n",
    "\n",
    "    # Find the nearest neighbors of the user\n",
    "    distances, indices = self.model.kneighbors(user_vector, n_neighbors=top_n+1)\n",
    "\n",
    "    # Get the item indices of the nearest neighbors (excluding the user itself)\n",
    "    item_indices = indices.flatten()[1:]\n",
    "\n",
    "    # Get the recommended items\n",
    "    recommended_items = self.item_content_features.index[item_indices]\n",
    "\n",
    "    return recommended_items"
   ],
   "outputs": [
    {
     "output_type": "error",
     "ename": "",
     "evalue": "",
     "traceback": [
      "\u001b[1;31mCell was canceled due to an error in a previous cell."
     ]
    }
   ],
   "metadata": {}
  },
  {
   "cell_type": "code",
   "execution_count": null,
   "source": [
    "def evaluate(self, test_data, top_n=10):\n",
    "    # Get the user IDs from the test data\n",
    "    user_ids = test_data['user_id'].unique()\n",
    "\n",
    "    # Initialize lists to store the true and predicted labels\n",
    "    y_true = []\n",
    "    y_pred = []\n",
    "\n",
    "    # Iterate over each user in the test data\n",
    "    for user_id in user_ids:\n",
    "        # Get the true items for the user\n",
    "        true_items = test_data[test_data['user_id'] == user_id]['item_id'].tolist()\n",
    "\n",
    "        # Generate recommendations for the user\n",
    "        recommended_items = self.generate_recommendations(user_id, top_n)\n",
    "\n",
    "        # Create the true labels (1 if the item is in the true items, 0 otherwise)\n",
    "        true_labels = [1 if item in true_items else 0 for item in recommended_items]\n",
    "\n",
    "        # Create the predicted labels (1 for recommended items)\n",
    "        predicted_labels = [1] * len(recommended_items)\n",
    "\n",
    "        # Append the true and predicted labels to the lists\n",
    "        y_true.extend(true_labels)\n",
    "        y_pred.extend(predicted_labels)"
   ],
   "outputs": [
    {
     "output_type": "error",
     "ename": "",
     "evalue": "",
     "traceback": [
      "\u001b[1;31mCell was canceled due to an error in a previous cell."
     ]
    }
   ],
   "metadata": {}
  },
  {
   "cell_type": "code",
   "execution_count": null,
   "source": [
    "# Calculate the evaluation metrics\n",
    "precision = precision_score(y_true, y_pred)\n",
    "recall = recall_score(y_true, y_pred)\n",
    "f1 = f1_score(y_true, y_pred)\n",
    "map_score = average_precision_score(y_true, y_pred)\n",
    "\n",
    "# Return the evaluation metrics as a dictionary\n",
    "return {\n",
    "    'Precision': precision,\n",
    "    'Recall': recall,\n",
    "    'F1-score': f1,\n",
    "    'MAP': map_score\n",
    "}"
   ],
   "outputs": [
    {
     "output_type": "error",
     "ename": "",
     "evalue": "",
     "traceback": [
      "\u001b[1;31mCell was canceled due to an error in a previous cell."
     ]
    }
   ],
   "metadata": {}
  },
  {
   "cell_type": "code",
   "execution_count": null,
   "source": [
    "def get_trending_songs(self, top_n=10):\n",
    "    # Get the trending songs based on overall popularity\n",
    "    trending_songs = self.user_item_interactions.sum().sort_values(ascending=False).head(top_n).index\n",
    "    return trending_songs"
   ],
   "outputs": [
    {
     "output_type": "error",
     "ename": "",
     "evalue": "",
     "traceback": [
      "\u001b[1;31mCell was canceled due to an error in a previous cell."
     ]
    }
   ],
   "metadata": {}
  }
 ],
 "nbformat": 4,
 "nbformat_minor": 2,
 "metadata": {
  "language_info": {
   "codemirror_mode": {
    "name": "ipython",
    "version": 3
   },
   "file_extension": ".py",
   "mimetype": "text/x-python",
   "name": "python",
   "nbconvert_exporter": "python",
   "pygments_lexer": "ipython3",
   "version": 3
  }
 }
}